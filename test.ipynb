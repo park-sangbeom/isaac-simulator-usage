{
 "cells": [
  {
   "cell_type": "code",
   "execution_count": null,
   "metadata": {},
   "outputs": [],
   "source": [
    "from transformers import TFDistilBertForMaskedLM, AutoTokenizer\n",
    "print(\"Done.\")"
   ]
  },
  {
   "cell_type": "code",
   "execution_count": null,
   "metadata": {},
   "outputs": [],
   "source": [
    "model = TFDistilBertForMaskedLM.from_pretrained('distilbert-base-uncased')\n"
   ]
  },
  {
   "cell_type": "code",
   "execution_count": null,
   "metadata": {},
   "outputs": [],
   "source": [
    "tokenizer = AutoTokenizer.from_pretrained('distilbert-base-uncased')\n",
    "inputs = tokenizer('Apple is my [MASK] food.', return_tensors='tf')\n",
    "result = model(inputs)\n",
    "\n"
   ]
  },
  {
   "cell_type": "code",
   "execution_count": null,
   "metadata": {},
   "outputs": [],
   "source": [
    "logits = result[0]\n"
   ]
  },
  {
   "cell_type": "code",
   "execution_count": null,
   "metadata": {},
   "outputs": [],
   "source": [
    "import tensorflow as tf\n",
    "top = tf.math.top_k(logits[0, 4], k=5)"
   ]
  },
  {
   "cell_type": "code",
   "execution_count": null,
   "metadata": {},
   "outputs": [],
   "source": [
    "tokenizer.decode(top.indices.numpy())\n"
   ]
  },
  {
   "cell_type": "code",
   "execution_count": null,
   "metadata": {},
   "outputs": [],
   "source": [
    "from transformers import pipeline\n",
    "pip = pipeline('fill-mask', model='distilbert-base-uncased')\n"
   ]
  },
  {
   "cell_type": "code",
   "execution_count": null,
   "metadata": {},
   "outputs": [],
   "source": [
    "pip('Apple is my [MASK] food.')\n"
   ]
  },
  {
   "cell_type": "code",
   "execution_count": null,
   "metadata": {},
   "outputs": [],
   "source": [
    "from transformers import FillMaskPipeline\n",
    "pip2 = FillMaskPipeline(model=model, tokenizer=tokenizer)\n",
    "pip2('Apple is my [MASK] food.')"
   ]
  },
  {
   "cell_type": "code",
   "execution_count": 35,
   "metadata": {},
   "outputs": [
    {
     "name": "stdout",
     "output_type": "stream",
     "text": [
      "I'm building a robot that can follow language commands. Tell me (YES or NO) if the robot can execute the following language instructions without knowing any other information about its environment.\n",
      "\n",
      "Input: move to the right\n",
      "Output: YES\n",
      "\n",
      "Input: rapidly twist to the front\n",
      "Output: YES\n",
      "\n",
      "Input: clean up the spilled coffee\n",
      "Output: NO\n",
      "\n",
      "Input: left\n",
      "Output: YES\n",
      "\n",
      "Input: move towards the bookshelf\n",
      "Output: NO\n",
      "Input: 10\n",
      "\n",
      "{\n",
      "  \"choices\": [\n",
      "    {\n",
      "      \"finish_reason\": \"stop\",\n",
      "      \"index\": 0,\n",
      "      \"logprobs\": null,\n",
      "      \"text\": \"\"\n",
      "    }\n",
      "  ],\n",
      "  \"created\": 1679971752,\n",
      "  \"id\": \"cmpl-6ytgWCvCvz6AtwxE3qivovsAbKrOq\",\n",
      "  \"model\": \"text-davinci-002\",\n",
      "  \"object\": \"text_completion\",\n",
      "  \"usage\": {\n",
      "    \"prompt_tokens\": 7,\n",
      "    \"total_tokens\": 7\n",
      "  }\n",
      "}\n"
     ]
    }
   ],
   "source": [
    "import openai \n",
    "\n",
    "openai.api_key = open(\"key.txt\", \"r\").read().strip(\"\\n\")\n",
    "PROMPT = (\n",
    "    \"I'm building a robot that can follow language commands. Tell me (YES or NO) if the robot can execute \"\n",
    "    \"the following language instructions without knowing any other information about its environment.\\n\\n\"\n",
    "    \"Input: move to the right\\n\"\n",
    "    \"Output: YES\\n\\n\"\n",
    "    \"Input: rapidly twist to the front\\n\"\n",
    "    \"Output: YES\\n\\n\"\n",
    "    \"Input: clean up the spilled coffee\\n\"\n",
    "    \"Output: NO\\n\\n\"\n",
    "    \"Input: left\\n\"\n",
    "    \"Output: YES\\n\\n\"\n",
    "    \"Input: move towards the bookshelf\\n\"\n",
    "    \"Output: NO\\n\"\n",
    "    \"Input: %s\\n\"\n",
    ")\n",
    "print(PROMPT%10)\n",
    "response_json = openai.Completion.create(model=\"text-davinci-002\", prompt=\"rapidly twist to the front\", max_tokens=4, stop=\"\\n\")\n",
    "print(response_json)"
   ]
  },
  {
   "cell_type": "code",
   "execution_count": 42,
   "metadata": {},
   "outputs": [
    {
     "name": "stdout",
     "output_type": "stream",
     "text": [
      "Say something \n"
     ]
    }
   ],
   "source": [
    "gpt3_output = response_json[\"choices\"][0][\"text\"].strip()\n",
    "print(\"Say something\",gpt3_output)\n",
    "\n",
    "\n",
    "if gpt3_output.lower() in {\"yes\"}:\n",
    "    utterance2alpha[u] = 0.0\n",
    "elif gpt3_output.lower() in {\"no\"}:\n",
    "    utterance2alpha[u] = 1.0\n",
    "\n"
   ]
  },
  {
   "cell_type": "code",
   "execution_count": 43,
   "metadata": {},
   "outputs": [
    {
     "name": "stdout",
     "output_type": "stream",
     "text": [
      "I am sorry, but as an AI language model, I can only respond to text-based inputs. Could you please provide me with more context or information about your request, so that I can assist you better?\n"
     ]
    }
   ],
   "source": [
    "completion = openai.ChatCompletion.create(\n",
    "  model=\"gpt-3.5-turbo\", # this is \"ChatGPT\" $0.002 per 1k tokens\n",
    "  messages=[{\"role\": \"user\", \"content\": \"rapidly twist to the front\"}]\n",
    ")\n",
    "reply_content = completion.choices[0].message.content\n",
    "print(reply_content)\n"
   ]
  },
  {
   "cell_type": "code",
   "execution_count": null,
   "metadata": {},
   "outputs": [],
   "source": []
  }
 ],
 "metadata": {
  "kernelspec": {
   "display_name": "Python 3",
   "language": "python",
   "name": "python3"
  },
  "language_info": {
   "codemirror_mode": {
    "name": "ipython",
    "version": 3
   },
   "file_extension": ".py",
   "mimetype": "text/x-python",
   "name": "python",
   "nbconvert_exporter": "python",
   "pygments_lexer": "ipython3",
   "version": "3.8.10"
  },
  "orig_nbformat": 4
 },
 "nbformat": 4,
 "nbformat_minor": 2
}
